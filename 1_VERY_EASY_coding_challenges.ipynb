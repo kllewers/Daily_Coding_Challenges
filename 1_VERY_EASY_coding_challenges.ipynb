{
 "cells": [
  {
   "cell_type": "markdown",
   "id": "f5dc3dd6",
   "metadata": {},
   "source": [
    "## To practice elegant and efficient code, try to solve all of these in 1-2 lines where you returning True or False"
   ]
  },
  {
   "cell_type": "markdown",
   "id": "1b41bb94",
   "metadata": {},
   "source": [
    "#### Are these numbers equal? Give a number 'n1' and another number 'n2' are the numbers equal to each other return True or False?"
   ]
  },
  {
   "cell_type": "code",
   "execution_count": 3,
   "id": "4fb80c70",
   "metadata": {},
   "outputs": [],
   "source": [
    "def equal_number(n1, n2):\n",
    "    # simply use the '==' operator to see if the first variable is equal to the second\n",
    "    # variable and it will automatically return True or False\n",
    "    return n1 == n2"
   ]
  },
  {
   "cell_type": "markdown",
   "id": "9125613d",
   "metadata": {},
   "source": [
    "#### Can they end the club? A club allows people in who are 21 or older. Write a function that check to see if an age is allowed by returning True or False"
   ]
  },
  {
   "cell_type": "code",
   "execution_count": 2,
   "id": "7011297b",
   "metadata": {},
   "outputs": [],
   "source": [
    "def can_enter_club(age):\n",
    "    # simply use the '>=' operator to see if the age entered is less than or\n",
    "    #  equal to 21 to return True or False\n",
    "    return age >= 21"
   ]
  },
  {
   "cell_type": "markdown",
   "id": "ea0635e7",
   "metadata": {},
   "source": [
    "#### Write a function to check whether or not a student's score is passing and return 'Passed' or 'Failed' based on the score. A passing score is 60 or above."
   ]
  },
  {
   "cell_type": "code",
   "execution_count": 1,
   "id": "3a44b7c3",
   "metadata": {},
   "outputs": [],
   "source": [
    "def pass_fail(score):\n",
    "    # Since we are not simply returning True or False, we will need to explicitly \n",
    "    # use conditional logic to return one string or the other.\n",
    "    if score >= 60:\n",
    "        return \"Passed\"\n",
    "    else: \n",
    "        return \"Failed\""
   ]
  },
  {
   "cell_type": "markdown",
   "id": "667d8a05",
   "metadata": {},
   "source": [
    "#### Write a function to see if the number is divisible by 5"
   ]
  },
  {
   "cell_type": "code",
   "execution_count": null,
   "id": "30b2a830",
   "metadata": {},
   "outputs": [],
   "source": [
    "def is_divisible_by_five(n):\n",
    "    # A modulo operator is a great way to see if a number is perfectly divisible\n",
    "    # by another number if set to equal 0, but can also be used for any remainder\n",
    "    # after diveing my the number for example 10%5 = 0, but 12%5 = 2\n",
    "    return n%5 == 0"
   ]
  },
  {
   "cell_type": "markdown",
   "id": "fcdfd621",
   "metadata": {},
   "source": [
    "#### Write a function to see if a number is greater than 5"
   ]
  },
  {
   "cell_type": "code",
   "execution_count": 4,
   "id": "6ff4b209",
   "metadata": {},
   "outputs": [],
   "source": [
    "def is_greater_than_five(n):\n",
    "    # simply use the '>' operator to see if the number entered is greater than 5\n",
    "    # return true or false\n",
    "    return n > 5"
   ]
  },
  {
   "cell_type": "markdown",
   "id": "b3770a4d",
   "metadata": {},
   "source": [
    "#### Write a function to see if a person is old enough to vote. Remember not all elections have the same age restriction when designing your function"
   ]
  },
  {
   "cell_type": "code",
   "execution_count": 5,
   "id": "1250f77c",
   "metadata": {},
   "outputs": [],
   "source": [
    "def are_they_voting_age(age_of_person, age_restriction):\n",
    "    # simply use the '>=' operator to see if the age entered is less than or\n",
    "    #  equal to the age restriction for voting to return True or False\n",
    "    return age_of_person >= age_restriction"
   ]
  }
 ],
 "metadata": {
  "kernelspec": {
   "display_name": "base",
   "language": "python",
   "name": "python3"
  },
  "language_info": {
   "codemirror_mode": {
    "name": "ipython",
    "version": 3
   },
   "file_extension": ".py",
   "mimetype": "text/x-python",
   "name": "python",
   "nbconvert_exporter": "python",
   "pygments_lexer": "ipython3",
   "version": "3.13.2"
  }
 },
 "nbformat": 4,
 "nbformat_minor": 5
}
