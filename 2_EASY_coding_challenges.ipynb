{
 "cells": [
  {
   "cell_type": "markdown",
   "id": "5bae3d05",
   "metadata": {},
   "source": [
    "#### Is the string spongecase? Write a function to determine whether or not a string is in spongecase. For example: 'HeLlO' is a spongecase string and 'heLLo' is not"
   ]
  },
  {
   "cell_type": "code",
   "execution_count": 1,
   "id": "0d3440ed",
   "metadata": {},
   "outputs": [],
   "source": [
    "def is_spongecase(s):\n",
    "   # At the core of this, I am trying to figure out whether or not\n",
    "   # the cases are alternating. First, much like setting an empty\n",
    "   # dictionary when trying to make an object to pass through, I need\n",
    "   # to set an empty parameter to kick this all off because there is no\n",
    "   # character before the first one, we will set the first occurrence\n",
    "   # of previous_character to None.\n",
    "   previous_character = None\n",
    "   # next we will start iterating through the string via a for loop\n",
    "   for character in s:\n",
    "       # Now let's check if the character we are on is an alphabetic\n",
    "       # character because we do not care about spaces or numbers for\n",
    "       # this problem\n",
    "       if not character.isalpha():\n",
    "           continue\n",
    "       # We want the default to be true (the return outside of the\n",
    "       # (loop) so the entire list can be\n",
    "       # iterate through or proven false at first chance for\n",
    "       # efficiency we will checking the previous case by setting\n",
    "       # a method that will return boolean logic\n",
    "       character_case = character.isupper()\n",
    "       # Now let's check if the cases match or not\n",
    "       if previous_character is not None and previous_character == character_case:\n",
    "           return False\n",
    "       # now set the current character case to be the previous_character variable\n",
    "       # so the list can iterate through again\n",
    "       previous_character = character_case\n",
    "   # Now set the default return to this function as True so if it makes it through the\n",
    "   # whole list without returning False in the loop, we know it's in spongecase\n",
    "   return True"
   ]
  },
  {
   "cell_type": "markdown",
   "id": "de74ad46",
   "metadata": {},
   "source": [
    "#### Write a function to raise a number to a power importing/using the math module"
   ]
  },
  {
   "cell_type": "code",
   "execution_count": 2,
   "id": "028308aa",
   "metadata": {},
   "outputs": [],
   "source": [
    "# import the math module, this is considered to be a \"built-in\" module since you do\n",
    "# not have to do any additional downloading of the module to be able to use it in\n",
    "# Python\n",
    "import math\n",
    "def calculate_power(base, exponent):\n",
    "    # in the math module there is the .pow method where you put in your base as the\n",
    "    # first argument and the power you want to raise it to as the second argument\n",
    "    # for example math.pow(2, 2) would be 4 and math.pow(2, 3) would equal 8\n",
    "    return math.pow(base, exponent)"
   ]
  },
  {
   "cell_type": "code",
   "execution_count": 1,
   "id": "8b7eac68",
   "metadata": {},
   "outputs": [],
   "source": [
    "# Bonus: you don't have to use the math module to accomplish the above challenge\n",
    "# the point at this level is to get you used to using/importing libraries. How\n",
    "# could you accomplish the same without the math module?\n",
    "\n",
    "def calculate_power(base, exponent):\n",
    "    # to raise something to a power without using the math module, you can simple use\n",
    "    # double asterisks ('**')\n",
    "    return base ** exponent"
   ]
  },
  {
   "cell_type": "markdown",
   "id": "a7509814",
   "metadata": {},
   "source": [
    "#### Write a function to copy certain elements from one tuple to a new tuple"
   ]
  },
  {
   "cell_type": "code",
   "execution_count": null,
   "id": "3d3a4487",
   "metadata": {},
   "outputs": [],
   "source": [
    "# For a more beginner version\n",
    "\n",
    "def copy_elements(original_tuple, indices):\n",
    "    # tuples are not mutable so it will need to be a transformed into a list so\n",
    "    # that the data can be manipulataed, but before we do that, we will need an\n",
    "    # empty list to store values in, in case more than one index is wanted\n",
    "    indices_list = []\n",
    "    transformed_tuple = list(original_tuple)\n",
    "    # if more than one index is wanted from the tuple newly transformed into a list,\n",
    "    # we will loop throuh those and append it to the empty list we made at the top of\n",
    "    # top of the fuction\n",
    "    for i in indices:\n",
    "        indices_list.append(transformed_tuple[i])\n",
    "    # Once all of the indices have been looped through we will return that, but \n",
    "    # transformed back into an immutable tuple because that is what was asked for\n",
    "    return tuple(indices_list)\n",
    "\n",
    "# The most elegant version because though tuples are immutable, they are still \n",
    "# indexed\n",
    "\n",
    "def copy_elements(original_tuple, indices):\n",
    "    return tuple(original_tuple[i] for i in indices)"
   ]
  },
  {
   "cell_type": "markdown",
   "id": "34e3294e",
   "metadata": {},
   "source": [
    "#### Write a function to convert a given string to title case"
   ]
  },
  {
   "cell_type": "code",
   "execution_count": null,
   "id": "24a9587f",
   "metadata": {},
   "outputs": [],
   "source": [
    "def convert_to_titlecase(string):\n",
    "    # this is very simple, just return the string using the built in .title() methods\n",
    "    return string.title()"
   ]
  },
  {
   "cell_type": "markdown",
   "id": "d0d82db5",
   "metadata": {},
   "source": [
    "#### Write a function to convert a number to a string with the number of dashes in that string"
   ]
  },
  {
   "cell_type": "code",
   "execution_count": null,
   "id": "2c88264e",
   "metadata": {},
   "outputs": [],
   "source": [
    "def dashes(n):\n",
    "    # create an empty list where you can keep track of your dashes as indices\n",
    "    dashes = []\n",
    "    # create a for loop to iterate through the numbers in a range\n",
    "    for i in range(n):\n",
    "        # add a dash to your list for each iteration\n",
    "        dashes.append('-')\n",
    "    # return the list, but joined into a string and put empty quotation marks as the \n",
    "    # delimiter so there are no spaces and it is just straight dashes\n",
    "    return ''.join(dashes)\n"
   ]
  },
  {
   "cell_type": "markdown",
   "id": "a8213e3d",
   "metadata": {},
   "source": [
    "#### Write code that will see if a string is a palindrome"
   ]
  },
  {
   "cell_type": "code",
   "execution_count": null,
   "id": "af7b0032",
   "metadata": {},
   "outputs": [
    {
     "data": {
      "text/plain": [
       "True"
      ]
     },
     "execution_count": 3,
     "metadata": {},
     "output_type": "execute_result"
    }
   ],
   "source": [
    "def palindrome(s):\n",
    "    return s == s[::-1]"
   ]
  }
 ],
 "metadata": {
  "kernelspec": {
   "display_name": "base",
   "language": "python",
   "name": "python3"
  },
  "language_info": {
   "codemirror_mode": {
    "name": "ipython",
    "version": 3
   },
   "file_extension": ".py",
   "mimetype": "text/x-python",
   "name": "python",
   "nbconvert_exporter": "python",
   "pygments_lexer": "ipython3",
   "version": "3.13.2"
  }
 },
 "nbformat": 4,
 "nbformat_minor": 5
}
