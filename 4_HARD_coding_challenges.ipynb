{
 "cells": [
  {
   "cell_type": "markdown",
   "id": "06bc0759",
   "metadata": {},
   "source": [
    "#### Make a Binary Search Tree"
   ]
  },
  {
   "cell_type": "code",
   "execution_count": 7,
   "id": "60af6fa9",
   "metadata": {},
   "outputs": [
    {
     "name": "stdout",
     "output_type": "stream",
     "text": [
      "[5, 10, 12]\n"
     ]
    }
   ],
   "source": [
    "class Node:\n",
    "    def __init__(self, val):\n",
    "        self.val = val\n",
    "        self.left = None\n",
    "        self.right = None\n",
    "\n",
    "root = Node(10)\n",
    "root.left = Node(5)\n",
    "root.right = Node(15)\n",
    "\n",
    "# Step 2: Wrap in a BST class\n",
    "\n",
    "# A Binary Search Tree usually has a “manager” that holds the \n",
    "# root and defines insert/search/traverse methods.\n",
    "\n",
    "class BST:\n",
    "    def __init__(self):\n",
    "        self.root = None\n",
    "\n",
    "    # Step 3: Insert method\n",
    "    # We need a way to put values into the tree while respecting the BST rule.\n",
    "\n",
    "    def insert(self, val):\n",
    "        if self.root is None:\n",
    "            self.root = Node(val)\n",
    "            return\n",
    "\n",
    "        cur = self.root\n",
    "        while True:\n",
    "            if val < cur.val:\n",
    "                if cur.left:\n",
    "                    cur = cur.left\n",
    "                else:\n",
    "                    cur.left = Node(val)\n",
    "                    return\n",
    "            elif val > cur.val:\n",
    "                if cur.right:\n",
    "                    cur = cur.right\n",
    "                else:\n",
    "                    cur.right = Node(val)\n",
    "                    return\n",
    "            else:\n",
    "                return  # duplicate, ignore\n",
    "            \n",
    "    def inorder(self):\n",
    "        out = []\n",
    "        def dfs(node):\n",
    "            if not node: return\n",
    "            dfs(node.left)\n",
    "            out.append(node.val)\n",
    "            dfs(node.right)\n",
    "        dfs(self.root)\n",
    "        return out\n",
    "            \n",
    "tree = BST()\n",
    "tree.insert(10)\n",
    "tree.insert(5)\n",
    "tree.insert(12)\n",
    "\n",
    "print(tree.inorder())  # [5, 10, 15]\n"
   ]
  }
 ],
 "metadata": {
  "kernelspec": {
   "display_name": "base",
   "language": "python",
   "name": "python3"
  },
  "language_info": {
   "codemirror_mode": {
    "name": "ipython",
    "version": 3
   },
   "file_extension": ".py",
   "mimetype": "text/x-python",
   "name": "python",
   "nbconvert_exporter": "python",
   "pygments_lexer": "ipython3",
   "version": "3.13.2"
  }
 },
 "nbformat": 4,
 "nbformat_minor": 5
}
