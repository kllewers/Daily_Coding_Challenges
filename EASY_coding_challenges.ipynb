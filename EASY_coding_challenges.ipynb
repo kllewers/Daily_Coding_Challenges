{
 "cells": [
  {
   "cell_type": "markdown",
   "id": "5bae3d05",
   "metadata": {},
   "source": [
    "#### Is the string spongecase? Write a function to determine whether or not a string is in spongecase. For example: 'HeLlO' is a spongecase string and 'heLLo' is not"
   ]
  },
  {
   "cell_type": "code",
   "execution_count": null,
   "id": "0d3440ed",
   "metadata": {},
   "outputs": [],
   "source": [
    "def is_spongecase(s):\n",
    "   # At the core of this, I am trying to figure out whether or not\n",
    "   # the cases are alternating. First, much like setting an empty\n",
    "   # dictionary when trying to make an object to pass through, I need\n",
    "   # to set an empty parameter to kick this all off because there is no\n",
    "   # character before the first one, we will set the first occurrence\n",
    "   # of previous_character to None.\n",
    "   previous_character = None\n",
    "   # next we will start iterating through the string via a for loop\n",
    "   for character in s:\n",
    "       # Now let's check if the character we are on is an alphabetic\n",
    "       # character because we do not care about spaces or numbers for\n",
    "       # this problem\n",
    "       if not character.isalpha():\n",
    "           continue\n",
    "       # We want the default to be true (the return outside of the\n",
    "       # (loop) so the entire list can be\n",
    "       # iterate through or proven false at first chance for\n",
    "       # efficiency we will checking the previous case by setting\n",
    "       # a method that will return boolean logic\n",
    "       character_case = character.isupper()\n",
    "       # Now let's check if the cases match or not\n",
    "       if previous_character is not None and previous_character == character_case:\n",
    "           return False\n",
    "       # now set the current character case to be the previous_character variable\n",
    "       # so the list can iterate through again\n",
    "       previous_character = character_case\n",
    "   # Now set the default return to this function as True so if it makes it through the\n",
    "   # whole list without returning False in the loop, we know it's in spongecase\n",
    "   return True"
   ]
  }
 ],
 "metadata": {
  "language_info": {
   "name": "python"
  }
 },
 "nbformat": 4,
 "nbformat_minor": 5
}
