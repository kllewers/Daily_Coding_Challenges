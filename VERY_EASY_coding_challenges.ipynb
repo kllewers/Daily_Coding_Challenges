{
 "cells": [
  {
   "cell_type": "markdown",
   "id": "1b41bb94",
   "metadata": {},
   "source": [
    "#### Are these numbers equal? Give a number 'n1' and another number 'n2' are the numbers equal to each other return True or False?"
   ]
  },
  {
   "cell_type": "code",
   "execution_count": null,
   "id": "4fb80c70",
   "metadata": {},
   "outputs": [],
   "source": [
    "def equal_number(n1, n2):\n",
    "    # simply use the '==' operator to see if the first variable is equal to the second\n",
    "    # variable and it will automatically return True or False\n",
    "    return n1 == n2"
   ]
  }
 ],
 "metadata": {
  "language_info": {
   "name": "python"
  }
 },
 "nbformat": 4,
 "nbformat_minor": 5
}
